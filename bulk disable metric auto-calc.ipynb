{
  "metadata": {
    "kernelspec": {
      "display_name": "Python (env andyb_python37)",
      "name": "py-dku-venv-andyb_python37",
      "language": "python"
    },
    "language_info": {
      "mimetype": "text/x-python",
      "nbconvert_exporter": "python",
      "version": "3.7.9",
      "name": "python",
      "pygments_lexer": "ipython3",
      "file_extension": ".py",
      "codemirror_mode": {
        "version": 3,
        "name": "ipython"
      }
    },
    "creator": "block",
    "createdOn": 1663000082813,
    "hide_input": false,
    "modifiedBy": "block",
    "customFields": {},
    "tags": []
  },
  "nbformat": 4,
  "nbformat_minor": 1,
  "cells": [
    {
      "execution_count": 1,
      "cell_type": "code",
      "metadata": {},
      "source": [
        "%pylab inline"
      ],
      "outputs": [
        {
          "output_type": "stream",
          "name": "stdout",
          "text": "Populating the interactive namespace from numpy and matplotlib\n"
        }
      ]
    },
    {
      "execution_count": 2,
      "cell_type": "code",
      "metadata": {},
      "source": [
        "import dataiku\nfrom dataiku import pandasutils as pdu\nimport pandas as pd"
      ],
      "outputs": []
    },
    {
      "cell_type": "markdown",
      "metadata": {},
      "source": [
        "Access dataiku via the api client, access the default project, list the project datasets and list comprehension the dataset names"
      ]
    },
    {
      "execution_count": 3,
      "cell_type": "code",
      "metadata": {},
      "source": [
        "client \u003d dataiku.api_client()\nproject \u003d client.get_default_project()\ndatasets \u003d project.list_datasets()\ndataset_names \u003d [dataset[\u0027name\u0027] for dataset in datasets]\ndataset_names"
      ],
      "outputs": [
        {
          "output_type": "execute_result",
          "metadata": {},
          "data": {
            "text/plain": "[\u0027aovhzse\u0027,\n \u0027away\u0027,\n \u0027dataset2\u0027,\n \u0027dataset2_copy\u0027,\n \u0027dataset2_copy_part\u0027,\n \u0027dataset2_copy_part2\u0027,\n \u0027dataset2_copy_part2_prepared\u0027,\n \u0027dataset2_copy_part2_prepared_filtered\u0027,\n \u0027dataset2_extra_col\u0027,\n \u0027game_data\u0027,\n \u0027game_data_prepared\u0027,\n \u0027home\u0027,\n \u0027player_data\u0027,\n \u0027player_data_grouped\u0027,\n \u0027player_data_grouped_joined\u0027,\n \u0027player_data_prepared\u0027,\n \u0027player_data_prepared_windows\u0027,\n \u0027player_data_prepared_windows_prepared\u0027,\n \u0027test\u0027,\n \u0027test_dataset\u0027,\n \u0027test_output\u0027,\n \u0027test_output_copy\u0027,\n \u0027training_eval_metrics_xgboost\u0027,\n \u0027training_eval_xgboost\u0027,\n \u0027training_set\u0027,\n \u0027training_set_grouped\u0027,\n \u0027training_set_grouped_prepared\u0027,\n \u0027training_set_grouped_prepared_copy\u0027,\n \u0027training_set_grouped_prepared_copy_scored\u0027,\n \u0027training_set_grouped_prepared_copy_scored_\u0027,\n \u0027training_set_joined_home\u0027,\n \u0027training_set_joined_home_away\u0027,\n \u0027training_set_prepared\u0027,\n \u0027training_set_prepared_orc\u0027,\n \u0027training_set_prepared_orc_prepared\u0027]"
          },
          "execution_count": 3
        }
      ]
    },
    {
      "cell_type": "markdown",
      "metadata": {},
      "source": [
        "Here is an example of the settings we are looking to modify for a given dataset. We want to change the \u0027computeOnBuildMode\u0027 values to \u0027NO\u0027"
      ]
    },
    {
      "execution_count": 7,
      "cell_type": "code",
      "metadata": {},
      "source": [
        "test_dataset \u003d project.get_dataset(dataset_names[0])\ntest_settings \u003d test_dataset.get_settings()\ntest_settings.get_raw()[\u0027metrics\u0027]"
      ],
      "outputs": [
        {
          "output_type": "execute_result",
          "metadata": {},
          "data": {
            "text/plain": "{\u0027probes\u0027: [{\u0027type\u0027: \u0027basic\u0027,\n   \u0027enabled\u0027: True,\n   \u0027computeOnBuildMode\u0027: \u0027PARTITION\u0027,\n   \u0027meta\u0027: {\u0027name\u0027: \u0027Basic data\u0027, \u0027level\u0027: 0},\n   \u0027configuration\u0027: {}},\n  {\u0027type\u0027: \u0027records\u0027,\n   \u0027enabled\u0027: True,\n   \u0027computeOnBuildMode\u0027: \u0027NO\u0027,\n   \u0027meta\u0027: {\u0027name\u0027: \u0027Record count\u0027, \u0027level\u0027: 0},\n   \u0027configuration\u0027: {}},\n  {\u0027type\u0027: \u0027col_stats\u0027,\n   \u0027enabled\u0027: False,\n   \u0027computeOnBuildMode\u0027: \u0027NO\u0027,\n   \u0027meta\u0027: {\u0027name\u0027: \u0027Columns statistics\u0027, \u0027level\u0027: 2},\n   \u0027configuration\u0027: {\u0027aggregates\u0027: []}},\n  {\u0027type\u0027: \u0027adv_col_stats\u0027,\n   \u0027enabled\u0027: False,\n   \u0027computeOnBuildMode\u0027: \u0027NO\u0027,\n   \u0027meta\u0027: {\u0027name\u0027: \u0027Most frequent values\u0027, \u0027level\u0027: 3},\n   \u0027configuration\u0027: {\u0027aggregates\u0027: [], \u0027numberTopValues\u0027: 10}},\n  {\u0027type\u0027: \u0027percentile_stats\u0027,\n   \u0027enabled\u0027: False,\n   \u0027computeOnBuildMode\u0027: \u0027NO\u0027,\n   \u0027meta\u0027: {\u0027name\u0027: \u0027Columns percentiles\u0027, \u0027level\u0027: 4},\n   \u0027configuration\u0027: {\u0027aggregates\u0027: []}},\n  {\u0027type\u0027: \u0027verify_col\u0027,\n   \u0027enabled\u0027: False,\n   \u0027computeOnBuildMode\u0027: \u0027NO\u0027,\n   \u0027meta\u0027: {\u0027name\u0027: \u0027Data validity\u0027, \u0027level\u0027: 4},\n   \u0027configuration\u0027: {\u0027aggregates\u0027: []}}],\n \u0027engineConfig\u0027: {\u0027padRunsWithMetrics\u0027: False,\n  \u0027hive\u0027: {\u0027active\u0027: True, \u0027extraConf\u0027: []},\n  \u0027basic\u0027: {},\n  \u0027dss\u0027: {\u0027active\u0027: True,\n   \u0027selection\u0027: {\u0027useMemTable\u0027: False,\n    \u0027filter\u0027: {\u0027distinct\u0027: False, \u0027enabled\u0027: False},\n    \u0027partitionSelectionMethod\u0027: \u0027ALL\u0027,\n    \u0027latestPartitionsN\u0027: 1,\n    \u0027ordering\u0027: {\u0027enabled\u0027: False, \u0027rules\u0027: []},\n    \u0027samplingMethod\u0027: \u0027FULL\u0027,\n    \u0027maxRecords\u0027: -1,\n    \u0027targetRatio\u0027: 0.02,\n    \u0027withinFirstN\u0027: -1,\n    \u0027maxReadUncompressedBytes\u0027: -1}},\n  \u0027sql\u0027: {\u0027active\u0027: True},\n  \u0027impala\u0027: {\u0027active\u0027: True},\n  \u0027spark\u0027: {\u0027active\u0027: True, \u0027extraConf\u0027: []},\n  \u0027python\u0027: {}},\n \u0027displayedState\u0027: {\u0027partition\u0027: \u0027NP\u0027,\n  \u0027columns\u0027: [],\n  \u0027metrics\u0027: [\u0027basic:COUNT_COLUMNS\u0027,\n   \u0027records:COUNT_RECORDS\u0027,\n   \u0027reporting:METRICS_COMPUTATION_DURATION\u0027]}}"
          },
          "execution_count": 7
        }
      ]
    },
    {
      "cell_type": "markdown",
      "metadata": {},
      "source": [
        "For loop thru the dataset names, get their settings, for loop thru the list of probes, change all their computeOnBuildMode values"
      ]
    },
    {
      "execution_count": 8,
      "cell_type": "code",
      "metadata": {},
      "source": [
        "for name in dataset_names:\n    dataset \u003d project.get_dataset(name)\n    settings \u003d dataset.get_settings()\n    \n    for probe in settings.get_raw()[\u0027metrics\u0027][\u0027probes\u0027]:\n        probe[\u0027computeOnBuildMode\u0027] \u003d \u0027NO\u0027\n        settings.save()"
      ],
      "outputs": []
    }
  ]
}