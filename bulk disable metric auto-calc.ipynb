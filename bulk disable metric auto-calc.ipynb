{
 "metadata": {
  "kernelspec": {
   "display_name": "Python (env andyb_python37)",
   "name": "py-dku-venv-andyb_python37",
   "language": "python"
  },
  "language_info": {
   "mimetype": "text/x-python",
   "nbconvert_exporter": "python",
   "version": "3.7.9",
   "name": "python",
   "pygments_lexer": "ipython3",
   "file_extension": ".py",
   "codemirror_mode": {
    "version": 3,
    "name": "ipython"
   }
  },
  "creator": "block",
  "createdOn": 1663000082813,
  "hide_input": false,
  "modifiedBy": "block",
  "customFields": {},
  "tags": []
 },
 "nbformat": 4,
 "nbformat_minor": 1,
 "cells": [
  {
   "execution_count": 1,
   "cell_type": "code",
   "metadata": {
    "pycharm": {
     "name": "#%%\n"
    }
   },
   "source": [
    "%pylab inline"
   ],
   "outputs": [
    {
     "output_type": "stream",
     "name": "stdout",
     "text": "Populating the interactive namespace from numpy and matplotlib\n"
    }
   ]
  },
  {
   "execution_count": 2,
   "cell_type": "code",
   "metadata": {
    "pycharm": {
     "name": "#%%\n"
    }
   },
   "source": [
    "import dataiku\n",
    "from dataiku import pandasutils as pdu\n",
    "import pandas as pd"
   ],
   "outputs": []
  },
  {
   "execution_count": 27,
   "cell_type": "code",
   "metadata": {
    "pycharm": {
     "name": "#%%\n"
    }
   },
   "source": [
    "client = dataiku.api_client()\n",
    "project = client.get_default_project()\n",
    "datasets = project.list_datasets()\n",
    "dataset_names = [dataset['name'] for dataset in datasets]\n",
    "dataset_names"
   ],
   "outputs": [
    {
     "output_type": "execute_result",
     "metadata": {},
     "data": {
      "text/plain": "['aovhzse',\n 'away',\n 'game_data',\n 'game_data_prepared',\n 'home',\n 'player_data',\n 'player_data_grouped',\n 'player_data_grouped_joined',\n 'player_data_prepared',\n 'player_data_prepared_windows',\n 'player_data_prepared_windows_prepared',\n 'test',\n 'test_output',\n 'test_output_prepared',\n 'training_eval_metrics_xgboost',\n 'training_eval_xgboost',\n 'training_set',\n 'training_set_grouped',\n 'training_set_grouped_prepared',\n 'training_set_grouped_prepared_copy',\n 'training_set_grouped_prepared_copy_scored',\n 'training_set_grouped_prepared_copy_scored_',\n 'training_set_joined_home',\n 'training_set_joined_home_away',\n 'training_set_prepared',\n 'training_set_prepared_orc',\n 'training_set_prepared_orc_prepared']"
     },
     "execution_count": 27
    }
   ]
  },
  {
   "execution_count": 30,
   "cell_type": "code",
   "metadata": {
    "pycharm": {
     "name": "#%%\n"
    }
   },
   "source": [
    "for name in dataset_names:\n",
    "    dataset = project.get_dataset(name)\n",
    "    settings = dataset.get_settings()\n",
    "    \n",
    "    for probe in settings.get_raw()['metrics']['probes']:\n",
    "        probe['computeOnBuildMode'] = 'NO'\n",
    "        settings.save()"
   ],
   "outputs": []
  }
 ]
}